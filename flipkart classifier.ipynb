{
 "cells": [
  {
   "cell_type": "code",
   "execution_count": 14,
   "metadata": {},
   "outputs": [
    {
     "name": "stdout",
     "output_type": "stream",
     "text": [
      "Model: \"sequential_1\"\n",
      "_________________________________________________________________\n",
      "Layer (type)                 Output Shape              Param #   \n",
      "=================================================================\n",
      "conv2d_1 (Conv2D)            (None, 62, 62, 32)        896       \n",
      "_________________________________________________________________\n",
      "conv2d_2 (Conv2D)            (None, 60, 60, 64)        18496     \n",
      "_________________________________________________________________\n",
      "max_pooling2d_1 (MaxPooling2 (None, 30, 30, 64)        0         \n",
      "_________________________________________________________________\n",
      "dropout_1 (Dropout)          (None, 30, 30, 64)        0         \n",
      "_________________________________________________________________\n",
      "conv2d_3 (Conv2D)            (None, 28, 28, 128)       73856     \n",
      "_________________________________________________________________\n",
      "max_pooling2d_2 (MaxPooling2 (None, 14, 14, 128)       0         \n",
      "_________________________________________________________________\n",
      "dropout_2 (Dropout)          (None, 14, 14, 128)       0         \n",
      "_________________________________________________________________\n",
      "flatten_1 (Flatten)          (None, 25088)             0         \n",
      "_________________________________________________________________\n",
      "dense_1 (Dense)              (None, 128)               3211392   \n",
      "_________________________________________________________________\n",
      "dropout_3 (Dropout)          (None, 128)               0         \n",
      "_________________________________________________________________\n",
      "dense_2 (Dense)              (None, 64)                8256      \n",
      "_________________________________________________________________\n",
      "dropout_4 (Dropout)          (None, 64)                0         \n",
      "_________________________________________________________________\n",
      "dense_3 (Dense)              (None, 1)                 65        \n",
      "=================================================================\n",
      "Total params: 3,312,961\n",
      "Trainable params: 3,312,961\n",
      "Non-trainable params: 0\n",
      "_________________________________________________________________\n",
      "None\n"
     ]
    }
   ],
   "source": [
    "from keras.models import Sequential\n",
    "from keras.layers import Conv2D\n",
    "from keras.layers import MaxPooling2D\n",
    "from keras.layers import Flatten\n",
    "from keras.layers import Dense, Dropout\n",
    "from keras.optimizers import SGD\n",
    "\n",
    "# Initialising the CNN\n",
    "classifier = Sequential()\n",
    "\n",
    "# Step 1 - Convolution\n",
    "classifier.add(Conv2D(32, (3, 3), input_shape = (64, 64, 3), activation = 'relu'))\n",
    "\n",
    "classifier.add(Conv2D(64, (3, 3), activation = 'relu'))\n",
    "# Step 2 - Pooling\n",
    "classifier.add(MaxPooling2D(pool_size = (2, 2)))\n",
    "\n",
    "# Adding a Dropout layer\n",
    "classifier.add(Dropout(0.25))\n",
    "\n",
    "classifier.add(Conv2D(128, (3, 3), activation = 'relu'))\n",
    "\n",
    "classifier.add(MaxPooling2D(pool_size = (2, 2)))\n",
    "\n",
    "# Adding a Dropout layer\n",
    "classifier.add(Dropout(0.5))\n",
    "\n",
    "# Step 3 - Flattening\n",
    "classifier.add(Flatten())\n",
    "\n",
    "# Step 4 - Full connection\n",
    "classifier.add(Dense(units = 128, activation = 'relu'))\n",
    "classifier.add(Dropout(0.5))\n",
    "\n",
    "classifier.add(Dense(units = 64, activation = 'relu'))\n",
    "classifier.add(Dropout(0.5))\n",
    "\n",
    "\n",
    "classifier.add(Dense(units = 1, activation = 'sigmoid'))\n",
    "\n",
    "# Compiling the CNN\n",
    "classifier.compile(optimizer = SGD(0.01), loss = 'binary_crossentropy', metrics = ['accuracy'])\n",
    "\n",
    "print(classifier.summary())\n",
    "\n"
   ]
  },
  {
   "cell_type": "code",
   "execution_count": 1,
   "metadata": {},
   "outputs": [],
   "source": [
    "import cv2\n",
    "import numpy as np\n",
    "from skimage import io \n",
    "from skimage.transform import rotate, AffineTransform\n",
    "import matplotlib.pyplot as plt\n",
    "import random\n",
    "from skimage import img_as_ubyte\n",
    "import os"
   ]
  },
  {
   "cell_type": "code",
   "execution_count": 4,
   "metadata": {},
   "outputs": [],
   "source": [
    "def anticlockwise_rotation(image):\n",
    "    angle= random.randint(0,180)\n",
    "    return rotate(image, angle)\n",
    "\n",
    "def clockwise_rotation(image):\n",
    "    angle= random.randint(0,180)\n",
    "    return rotate(image, -angle)\n",
    "\n",
    "def h_flip(image):\n",
    "    return  np.fliplr(image)\n",
    "\n",
    "def v_flip(image):\n",
    "    return np.flipud(image)\n",
    "\n",
    "def increase_brightness(img, value=30):\n",
    "    hsv= cv2.cvtColor(img,cv2.COLOR_BGR2HSV)\n",
    "    h,s,v = cv2.split(hsv)\n",
    "    \n",
    "    lim = 255 - value\n",
    "    v[v > lim] = 255\n",
    "    v[v <= lim] += value\n",
    "\n",
    "    final_hsv = cv2.merge((h, s, v))\n",
    "    img = cv2.cvtColor(final_hsv, cv2.COLOR_HSV2BGR)\n",
    "    return img\n",
    "\n",
    "def unsharp_mask(image, kernel_size=(5, 5), sigma=1.0, amount=1.0, threshold=0):\n",
    "    \"\"\"Return a sharpened version of the image, using an unsharp mask.\"\"\"\n",
    "    blurred = cv2.GaussianBlur(image, kernel_size, sigma)\n",
    "    sharpened = float(amount + 1) * image - float(amount) * blurred\n",
    "    sharpened = np.maximum(sharpened, np.zeros(sharpened.shape))\n",
    "    sharpened = np.minimum(sharpened, 255 * np.ones(sharpened.shape))\n",
    "    sharpened = sharpened.round().astype(np.uint8)\n",
    "    if threshold > 0:\n",
    "        low_contrast_mask = np.absolute(image - blurred) < threshold\n",
    "        np.copyto(sharpened, image, where=low_contrast_mask)\n",
    "    return sharpened"
   ]
  },
  {
   "cell_type": "code",
   "execution_count": 12,
   "metadata": {},
   "outputs": [
    {
     "name": "stderr",
     "output_type": "stream",
     "text": [
      "C:\\Users\\hp\\Anaconda3\\lib\\site-packages\\skimage\\util\\dtype.py:135: UserWarning: Possible precision loss when converting from float64 to uint8\n",
      "  .format(dtypeobj_in, dtypeobj_out))\n"
     ]
    }
   ],
   "source": [
    "transformations = {'rotate anticlockwise': anticlockwise_rotation,\n",
    "                      'rotate clockwise': clockwise_rotation,\n",
    "                      'horizontal flip': h_flip, \n",
    "                      'vertical flip': v_flip,\n",
    "                      'increase brightness': increase_brightness,\n",
    "                      'sharpening image': unsharp_mask\n",
    "                 }                #use dictionary to store names of functions \n",
    "\n",
    "images_path=\"E:/flipkart_classifier/train/men_jeans\" #path to original images\n",
    "augmented_path=\"E:/flipkart_classifier/train/augmented_images_jeans\" # path to store aumented images\n",
    "images=[] # to store paths of images from folder\n",
    "\n",
    "for im in os.listdir(images_path):  # read image name from folder and append its path into \"images\" array     \n",
    "    images.append(os.path.join(images_path,im))\n",
    "\n",
    "images_to_generate=500  #you can change this value according to your requirement\n",
    "i=1                        # variable to iterate till images_to_generate\n",
    "\n",
    "while i<=images_to_generate:    \n",
    "    image=random.choice(images)\n",
    "    original_image = io.imread(image)\n",
    "    transformed_image=None\n",
    "#     print(i)\n",
    "    n = 0       #variable to iterate till number of transformation to apply\n",
    "    transformation_count = random.randint(1, len(transformations)) #choose random number of transformation to apply on the image\n",
    "    \n",
    "    while n <= transformation_count:\n",
    "        key = random.choice(list(transformations)) #randomly choosing method to call\n",
    "        transformed_image = transformations[key](original_image)\n",
    "        n = n + 1\n",
    "        \n",
    "    new_image_path= \"%s/augmented_image_%s.jpg\" %(augmented_path, i)\n",
    "    transformed_image = img_as_ubyte(transformed_image)  #Convert an image to unsigned byte format, with values in [0, 255].\n",
    "    transformed_image=cv2.cvtColor(transformed_image, cv2.COLOR_BGR2RGB) #convert image to RGB before saving it\n",
    "    cv2.imwrite(new_image_path, transformed_image) # save transformed image to path\n",
    "    i =i+1"
   ]
  },
  {
   "cell_type": "code",
   "execution_count": 23,
   "metadata": {},
   "outputs": [
    {
     "name": "stderr",
     "output_type": "stream",
     "text": [
      "C:\\Users\\hp\\Anaconda3\\lib\\site-packages\\skimage\\util\\dtype.py:135: UserWarning: Possible precision loss when converting from float64 to uint8\n",
      "  .format(dtypeobj_in, dtypeobj_out))\n"
     ]
    }
   ],
   "source": [
    "transformations = {'rotate anticlockwise': anticlockwise_rotation,\n",
    "                      'rotate clockwise': clockwise_rotation,\n",
    "                      'horizontal flip': h_flip, \n",
    "                      'vertical flip': v_flip,\n",
    "                      'increase brightness': increase_brightness,\n",
    "                      'sharpening image': unsharp_mask\n",
    "                 }                #use dictionary to store names of functions \n",
    "\n",
    "images_path=\"E:/flipkart_classifier/train/men_trouser\" #path to original images\n",
    "augmented_path=\"E:/flipkart_classifier/train/augmented_images_trouser\" # path to store aumented images\n",
    "images=[] # to store paths of images from folder\n",
    "\n",
    "for im in os.listdir(images_path):  # read image name from folder and append its path into \"images\" array     \n",
    "    images.append(os.path.join(images_path,im))\n",
    "\n",
    "images_to_generate=500  #you can change this value according to your requirement\n",
    "i=1                        # variable to iterate till images_to_generate\n",
    "\n",
    "while i<=images_to_generate:    \n",
    "    image=random.choice(images)\n",
    "    original_image = io.imread(image)\n",
    "    transformed_image=None\n",
    "#     print(i)\n",
    "    n = 0       #variable to iterate till number of transformation to apply\n",
    "    transformation_count = random.randint(1, len(transformations)) #choose random number of transformation to apply on the image\n",
    "    \n",
    "    while n <= transformation_count:\n",
    "        key = random.choice(list(transformations)) #randomly choosing method to call\n",
    "        transformed_image = transformations[key](original_image)\n",
    "        n = n + 1\n",
    "        \n",
    "    new_image_path= \"%s/augmented_image_%s.jpg\" %(augmented_path, i)\n",
    "    transformed_image = img_as_ubyte(transformed_image)  #Convert an image to unsigned byte format, with values in [0, 255].\n",
    "    transformed_image=cv2.cvtColor(transformed_image, cv2.COLOR_BGR2RGB) #convert image to RGB before saving it\n",
    "    cv2.imwrite(new_image_path, transformed_image) # save transformed image to path\n",
    "    i =i+1"
   ]
  },
  {
   "cell_type": "code",
   "execution_count": 17,
   "metadata": {},
   "outputs": [
    {
     "name": "stdout",
     "output_type": "stream",
     "text": [
      "Found 1200 images belonging to 2 classes.\n",
      "Found 40 images belonging to 2 classes.\n",
      "Epoch 1/10\n",
      "250/250 [==============================] - 642s 3s/step - loss: 0.6570 - accuracy: 0.6060 - val_loss: 0.7390 - val_accuracy: 0.6250\n",
      "Epoch 2/10\n",
      "250/250 [==============================] - 640s 3s/step - loss: 0.6107 - accuracy: 0.6802 - val_loss: 0.7092 - val_accuracy: 0.5250\n",
      "Epoch 3/10\n",
      "250/250 [==============================] - 577s 2s/step - loss: 0.5531 - accuracy: 0.7274 - val_loss: 0.6322 - val_accuracy: 0.7250\n",
      "Epoch 4/10\n",
      "250/250 [==============================] - 578s 2s/step - loss: 0.5224 - accuracy: 0.7449 - val_loss: 1.0252 - val_accuracy: 0.6250\n",
      "Epoch 5/10\n",
      "250/250 [==============================] - 573s 2s/step - loss: 0.4974 - accuracy: 0.7617 - val_loss: 0.4243 - val_accuracy: 0.7250\n",
      "Epoch 6/10\n",
      "250/250 [==============================] - 586s 2s/step - loss: 0.4756 - accuracy: 0.7754 - val_loss: 1.1445 - val_accuracy: 0.7250\n",
      "Epoch 7/10\n",
      "250/250 [==============================] - 564s 2s/step - loss: 0.4518 - accuracy: 0.7915 - val_loss: 0.5270 - val_accuracy: 0.7250\n",
      "Epoch 8/10\n",
      "250/250 [==============================] - 564s 2s/step - loss: 0.4353 - accuracy: 0.7965 - val_loss: 0.4593 - val_accuracy: 0.7250\n",
      "Epoch 9/10\n",
      "250/250 [==============================] - 558s 2s/step - loss: 0.4047 - accuracy: 0.8078 - val_loss: 0.6041 - val_accuracy: 0.7250\n",
      "Epoch 10/10\n",
      "250/250 [==============================] - 567s 2s/step - loss: 0.3912 - accuracy: 0.8181 - val_loss: 0.6120 - val_accuracy: 0.7250\n"
     ]
    }
   ],
   "source": [
    "#Fitting the CNN to the images\n",
    "\n",
    "from keras.preprocessing.image import ImageDataGenerator\n",
    "\n",
    "train_datagen = ImageDataGenerator(rescale = 1./255,\n",
    "                                   shear_range = 0.2,\n",
    "                                   zoom_range = 0.2,\n",
    "                                   horizontal_flip = True)\n",
    "test_datagen = ImageDataGenerator(rescale = 1./255)\n",
    "\n",
    "training_set = train_datagen.flow_from_directory('E:/flipkart_classifier/train',\n",
    "                                                 target_size = (64, 64),\n",
    "                                                 batch_size = 32,\n",
    "                                                 class_mode = 'binary')\n",
    "\n",
    "test_set = test_datagen.flow_from_directory('E:/flipkart_classifier/test',\n",
    "                                            target_size = (64, 64),\n",
    "                                            batch_size = 32,\n",
    "                                            class_mode = 'binary')\n",
    "\n",
    "model = classifier.fit_generator(training_set,\n",
    "                         steps_per_epoch = 250,\n",
    "                         epochs = 10,\n",
    "                         validation_data = test_set,    \n",
    "                         validation_steps = 200)"
   ]
  },
  {
   "cell_type": "code",
   "execution_count": 19,
   "metadata": {},
   "outputs": [
    {
     "name": "stdout",
     "output_type": "stream",
     "text": [
      "jeans\n"
     ]
    }
   ],
   "source": [
    "import numpy as np\n",
    "from keras.preprocessing import image\n",
    "test_image = image.load_img('E:/flipkart_classifier/test/men_jeans/img_101.jpeg', target_size = (64, 64))\n",
    "test_image = image.img_to_array(test_image)\n",
    "test_image = np.expand_dims(test_image, axis = 0)\n",
    "result = classifier.predict(test_image)\n",
    "training_set.class_indices\n",
    "if result == 1:\n",
    "    prediction = 'trouser'\n",
    "    print(prediction)\n",
    "\n",
    "else:\n",
    "    prediction = 'jeans'\n",
    "    print(prediction)"
   ]
  },
  {
   "cell_type": "code",
   "execution_count": 21,
   "metadata": {},
   "outputs": [
    {
     "data": {
      "image/png": "[encoded data removed]",
      "text/plain": [
       "<Figure size 432x288 with 1 Axes>"
      ]
     },
     "metadata": {},
     "output_type": "display_data"
    }
   ],
   "source": [
    "#Plotting our loss & Accuracy Charts\n",
    "import matplotlib.pyplot as plt\n",
    "\n",
    "history_dict = model.history\n",
    "\n",
    "loss_values= history_dict['loss']\n",
    "val_loss_values= history_dict['val_loss']\n",
    "epochs= range(1,len(loss_values)+1)\n",
    "\n",
    "line1= plt.plot(epochs,val_loss_values, label='Validation/Test loss')\n",
    "line2= plt.plot(epochs, loss_values, label='Training loss')\n",
    "plt.setp(line1, linewidth=2.0, marker='+', markersize=10.0)\n",
    "plt.setp(line2, linewidth=2.0, marker='4', markersize=10.0)\n",
    "plt.xlabel('Epochs')\n",
    "plt.ylabel('Loss')\n",
    "plt.grid(True)\n",
    "plt.legend()\n",
    "plt.show()"
   ]
  },
  {
   "cell_type": "code",
   "execution_count": 22,
   "metadata": {},
   "outputs": [
    {
     "data": {
      "image/png": "[encoded data removed]",
      "text/plain": [
       "<Figure size 432x288 with 1 Axes>"
      ]
     },
     "metadata": {},
     "output_type": "display_data"
    }
   ],
   "source": [
    "history_dict = model.history\n",
    "\n",
    "acc_values= history_dict['accuracy']\n",
    "val_acc_values= history_dict['val_accuracy']\n",
    "epochs= range(1,len(loss_values)+1)\n",
    "\n",
    "line1= plt.plot(epochs,val_acc_values, label='Validation/Test accuracy')\n",
    "line2= plt.plot(epochs, acc_values, label='Training accuracy')\n",
    "plt.setp(line1, linewidth=2.0, marker='+', markersize=10.0)\n",
    "plt.setp(line2, linewidth=2.0, marker='4', markersize=10.0)\n",
    "plt.xlabel('Epochs')\n",
    "plt.ylabel('Accuracy')\n",
    "plt.grid(True)\n",
    "plt.legend()\n",
    "plt.show()"
   ]
  },
  {
   "cell_type": "code",
   "execution_count": null,
   "metadata": {},
   "outputs": [],
   "source": []
  }
 ],
 "metadata": {
  "kernelspec": {
   "display_name": "Python 3",
   "language": "python",
   "name": "python3"
  },
  "language_info": {
   "codemirror_mode": {
    "name": "ipython",
    "version": 3
   },
   "file_extension": ".py",
   "mimetype": "text/x-python",
   "name": "python",
   "nbconvert_exporter": "python",
   "pygments_lexer": "ipython3",
   "version": "3.6.5"
  }
 },
 "nbformat": 4,
 "nbformat_minor": 2
}
