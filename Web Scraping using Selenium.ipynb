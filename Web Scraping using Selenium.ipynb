{
 "cells": [
  {
   "cell_type": "code",
   "execution_count": 1,
   "metadata": {},
   "outputs": [],
   "source": [
    "#Import the liberaries\n",
    "from selenium import webdriver\n",
    "import os\n",
    "driver= webdriver.Chrome(executable_path='chromedriver.exe')\n",
    "mhy_page=driver.get('https://www.flipkart.com/clothing-and-accessories/bottomwear/jeans/men-jeans/pr?sid=clo,vua,k58,i51&otracker=categorytree&otracker=nmenu_sub_Men_0_Jeans')"
   ]
  },
  {
   "cell_type": "code",
   "execution_count": 3,
   "metadata": {},
   "outputs": [],
   "source": [
    "#MAking the directory to store images\n",
    "def make_directory(dirname):\n",
    "    current_path = os.getcwd()\n",
    "    path= os.path.join(current_path, dirname)\n",
    "    if not os.path.exists(path):\n",
    "        os.makedirs(path)\n",
    "        \n",
    "make_directory('flipkart_jeans')"
   ]
  },
  {
   "cell_type": "code",
   "execution_count": 8,
   "metadata": {},
   "outputs": [
    {
     "name": "stdout",
     "output_type": "stream",
     "text": [
      "[<selenium.webdriver.remote.webelement.WebElement (session=\"d9acc34b5cf52c2bf69509508fe5ce2d\", element=\"cf3570a5-76d8-4205-bb14-fd7bfb557a03\")>, <selenium.webdriver.remote.webelement.WebElement (session=\"d9acc34b5cf52c2bf69509508fe5ce2d\", element=\"b8af429e-e63e-4ff3-8dd8-95825e8b4a0c\")>, <selenium.webdriver.remote.webelement.WebElement (session=\"d9acc34b5cf52c2bf69509508fe5ce2d\", element=\"0bf05dcd-3b95-4186-9dd7-ef76d0ccbb1c\")>, <selenium.webdriver.remote.webelement.WebElement (session=\"d9acc34b5cf52c2bf69509508fe5ce2d\", element=\"9ad9f4bd-c2d6-40b1-ba73-23c48c24e159\")>, <selenium.webdriver.remote.webelement.WebElement (session=\"d9acc34b5cf52c2bf69509508fe5ce2d\", element=\"2a0bbda3-29d8-449e-b8f3-b05401af07a9\")>, <selenium.webdriver.remote.webelement.WebElement (session=\"d9acc34b5cf52c2bf69509508fe5ce2d\", element=\"48c7de63-586e-441b-8219-2333e0de8ad7\")>, <selenium.webdriver.remote.webelement.WebElement (session=\"d9acc34b5cf52c2bf69509508fe5ce2d\", element=\"9380d6fa-f2e7-4ed8-8265-90172d274bed\")>, <selenium.webdriver.remote.webelement.WebElement (session=\"d9acc34b5cf52c2bf69509508fe5ce2d\", element=\"07cb2275-4e67-4e2f-8c83-fa319907e6e9\")>, <selenium.webdriver.remote.webelement.WebElement (session=\"d9acc34b5cf52c2bf69509508fe5ce2d\", element=\"73dbbc00-25bd-4e47-8343-0561f052a471\")>, <selenium.webdriver.remote.webelement.WebElement (session=\"d9acc34b5cf52c2bf69509508fe5ce2d\", element=\"fcb64615-703a-47d6-895b-9a10cdc348ac\")>, <selenium.webdriver.remote.webelement.WebElement (session=\"d9acc34b5cf52c2bf69509508fe5ce2d\", element=\"7870bfe1-86df-4739-b299-bc63c309780e\")>, <selenium.webdriver.remote.webelement.WebElement (session=\"d9acc34b5cf52c2bf69509508fe5ce2d\", element=\"237bef45-8959-4d1c-8448-bbdb25da233f\")>, <selenium.webdriver.remote.webelement.WebElement (session=\"d9acc34b5cf52c2bf69509508fe5ce2d\", element=\"96ddd267-9718-4a2b-b0e3-38512be46207\")>, <selenium.webdriver.remote.webelement.WebElement (session=\"d9acc34b5cf52c2bf69509508fe5ce2d\", element=\"70ce4509-8c6e-463a-ade0-f6db21bd6ef8\")>, <selenium.webdriver.remote.webelement.WebElement (session=\"d9acc34b5cf52c2bf69509508fe5ce2d\", element=\"00854afb-8254-457f-a603-644c6b09bcfc\")>, <selenium.webdriver.remote.webelement.WebElement (session=\"d9acc34b5cf52c2bf69509508fe5ce2d\", element=\"75d92cff-b566-4137-829b-84df08ad5b22\")>, <selenium.webdriver.remote.webelement.WebElement (session=\"d9acc34b5cf52c2bf69509508fe5ce2d\", element=\"554f1a8f-b291-475d-b8e3-5315ba3bf78c\")>, <selenium.webdriver.remote.webelement.WebElement (session=\"d9acc34b5cf52c2bf69509508fe5ce2d\", element=\"c7501bb3-8f58-4254-853f-e77852f97a2b\")>, <selenium.webdriver.remote.webelement.WebElement (session=\"d9acc34b5cf52c2bf69509508fe5ce2d\", element=\"bbd6dbc2-d0e4-47b7-b13f-3fd4f5050bf4\")>, <selenium.webdriver.remote.webelement.WebElement (session=\"d9acc34b5cf52c2bf69509508fe5ce2d\", element=\"34d2395e-7d33-4f16-abfd-03ce1c1f1fd3\")>, <selenium.webdriver.remote.webelement.WebElement (session=\"d9acc34b5cf52c2bf69509508fe5ce2d\", element=\"b60943cf-a110-48c4-ba69-715298d65d57\")>, <selenium.webdriver.remote.webelement.WebElement (session=\"d9acc34b5cf52c2bf69509508fe5ce2d\", element=\"e2c9fbe7-6db0-4eb7-a551-2f7859ae6737\")>, <selenium.webdriver.remote.webelement.WebElement (session=\"d9acc34b5cf52c2bf69509508fe5ce2d\", element=\"7f491bc7-ca0c-4370-ab41-9296bf94515e\")>, <selenium.webdriver.remote.webelement.WebElement (session=\"d9acc34b5cf52c2bf69509508fe5ce2d\", element=\"4826fc0f-2a89-446f-9c1e-0ba062c832fb\")>, <selenium.webdriver.remote.webelement.WebElement (session=\"d9acc34b5cf52c2bf69509508fe5ce2d\", element=\"bc42a1e3-6866-4fd1-b336-54ac7d1659d4\")>, <selenium.webdriver.remote.webelement.WebElement (session=\"d9acc34b5cf52c2bf69509508fe5ce2d\", element=\"ed62fee3-f1f8-49ec-8bd1-6bb24f9356b1\")>, <selenium.webdriver.remote.webelement.WebElement (session=\"d9acc34b5cf52c2bf69509508fe5ce2d\", element=\"5c2f241c-de34-45b0-8e20-af8287059798\")>, <selenium.webdriver.remote.webelement.WebElement (session=\"d9acc34b5cf52c2bf69509508fe5ce2d\", element=\"573ef190-6af6-40d1-a91f-bc3499a681e6\")>, <selenium.webdriver.remote.webelement.WebElement (session=\"d9acc34b5cf52c2bf69509508fe5ce2d\", element=\"2c12c935-878e-428b-942c-e5eb133a9b77\")>, <selenium.webdriver.remote.webelement.WebElement (session=\"d9acc34b5cf52c2bf69509508fe5ce2d\", element=\"45440d85-dab7-4d82-b736-618e93c2cffb\")>, <selenium.webdriver.remote.webelement.WebElement (session=\"d9acc34b5cf52c2bf69509508fe5ce2d\", element=\"e7d46c9d-dcb6-4ac6-8014-229815997c03\")>, <selenium.webdriver.remote.webelement.WebElement (session=\"d9acc34b5cf52c2bf69509508fe5ce2d\", element=\"00788d41-b09a-4d78-95b6-20f74fb69f9b\")>, <selenium.webdriver.remote.webelement.WebElement (session=\"d9acc34b5cf52c2bf69509508fe5ce2d\", element=\"9339b479-5b96-4618-b982-f9a6690f535c\")>, <selenium.webdriver.remote.webelement.WebElement (session=\"d9acc34b5cf52c2bf69509508fe5ce2d\", element=\"fcd1652a-b9dc-4da8-9f73-ac1f7fd2c930\")>, <selenium.webdriver.remote.webelement.WebElement (session=\"d9acc34b5cf52c2bf69509508fe5ce2d\", element=\"f16a5450-01df-45de-9f12-53952b0cc86c\")>, <selenium.webdriver.remote.webelement.WebElement (session=\"d9acc34b5cf52c2bf69509508fe5ce2d\", element=\"8cfa5ce2-abb8-4003-98aa-5e192cf097df\")>, <selenium.webdriver.remote.webelement.WebElement (session=\"d9acc34b5cf52c2bf69509508fe5ce2d\", element=\"a113ff47-0619-4acb-b61e-93da363ec015\")>, <selenium.webdriver.remote.webelement.WebElement (session=\"d9acc34b5cf52c2bf69509508fe5ce2d\", element=\"406f0a17-939b-4ef5-94ef-14a2fb3c8e0e\")>, <selenium.webdriver.remote.webelement.WebElement (session=\"d9acc34b5cf52c2bf69509508fe5ce2d\", element=\"5298deb8-3485-4a71-b366-bd5c04619869\")>, <selenium.webdriver.remote.webelement.WebElement (session=\"d9acc34b5cf52c2bf69509508fe5ce2d\", element=\"0bb2b0f7-11ae-45f4-9fa2-5d9de15f799b\")>]\n"
     ]
    }
   ],
   "source": [
    "#Scraping image URLs\n",
    "images= driver.find_elements_by_xpath(\"//img[@class='_3togXc']\")\n",
    "print(images)"
   ]
  },
  {
   "cell_type": "code",
   "execution_count": 10,
   "metadata": {},
   "outputs": [
    {
     "data": {
      "text/plain": [
       "40"
      ]
     },
     "execution_count": 10,
     "metadata": {},
     "output_type": "execute_result"
    }
   ],
   "source": [
    "urls=[]\n",
    "for image in images:\n",
    "    source= image.get_attribute('src')\n",
    "    urls.append(source)\n",
    "    \n",
    "    \n",
    "len(urls)"
   ]
  },
  {
   "cell_type": "code",
   "execution_count": 11,
   "metadata": {},
   "outputs": [],
   "source": [
    "import shutil\n",
    "import requests"
   ]
  },
  {
   "cell_type": "code",
   "execution_count": 13,
   "metadata": {},
   "outputs": [
    {
     "name": "stdout",
     "output_type": "stream",
     "text": [
      "Downloading 1 of 40 images\n",
      "Downloading 2 of 40 images\n",
      "Downloading 3 of 40 images\n",
      "Downloading 4 of 40 images\n",
      "Downloading 5 of 40 images\n",
      "Downloading 6 of 40 images\n",
      "Downloading 7 of 40 images\n",
      "Downloading 8 of 40 images\n",
      "Downloading 9 of 40 images\n",
      "Downloading 10 of 40 images\n",
      "Downloading 11 of 40 images\n",
      "Downloading 12 of 40 images\n",
      "Downloading 13 of 40 images\n",
      "Downloading 14 of 40 images\n",
      "Downloading 15 of 40 images\n",
      "Downloading 16 of 40 images\n",
      "Downloading 17 of 40 images\n",
      "Downloading 18 of 40 images\n",
      "Downloading 19 of 40 images\n",
      "Downloading 20 of 40 images\n",
      "Downloading 21 of 40 images\n",
      "Downloading 22 of 40 images\n",
      "Downloading 23 of 40 images\n",
      "Downloading 24 of 40 images\n",
      "Downloading 25 of 40 images\n",
      "Downloading 26 of 40 images\n",
      "Downloading 27 of 40 images\n",
      "Downloading 28 of 40 images\n",
      "Downloading 29 of 40 images\n",
      "Downloading 30 of 40 images\n",
      "Downloading 31 of 40 images\n",
      "Downloading 32 of 40 images\n",
      "Downloading 33 of 40 images\n",
      "Downloading 34 of 40 images\n",
      "Downloading 35 of 40 images\n",
      "Downloading 36 of 40 images\n",
      "Downloading 37 of 40 images\n",
      "Downloading 38 of 40 images\n",
      "Downloading 39 of 40 images\n",
      "Downloading 40 of 40 images\n"
     ]
    }
   ],
   "source": [
    "for index, link in enumerate(urls):\n",
    "    print(\"Downloading {0} of {1} images\".format(index+1,len(urls)))\n",
    "    response= requests.get('https://www.flipkart.com/clothing-and-accessories/bottomwear/jeans/men-jeans/pr?sid=clo,vua,k58,i51&otracker=categorytree&otracker=nmenu_sub_Men_0_Jeans')\n",
    "    with open('flipkart_jeans/img_{0}.jpeg'.format(index),\"wb\") as file:\n",
    "        file.write(response.content)"
   ]
  },
  {
   "cell_type": "code",
   "execution_count": null,
   "metadata": {},
   "outputs": [],
   "source": []
  }
 ],
 "metadata": {
  "kernelspec": {
   "display_name": "Python 3",
   "language": "python",
   "name": "python3"
  },
  "language_info": {
   "codemirror_mode": {
    "name": "ipython",
    "version": 3
   },
   "file_extension": ".py",
   "mimetype": "text/x-python",
   "name": "python",
   "nbconvert_exporter": "python",
   "pygments_lexer": "ipython3",
   "version": "3.6.5"
  }
 },
 "nbformat": 4,
 "nbformat_minor": 2
}
